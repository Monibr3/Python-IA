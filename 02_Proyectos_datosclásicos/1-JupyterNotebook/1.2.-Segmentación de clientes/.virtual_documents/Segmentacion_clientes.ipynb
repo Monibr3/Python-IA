








import pandas as pd       # Manipulación de datos
import numpy as np        # Cálculos numéricos
from pathlib import Path  # Manejo de rutas de archivos
from datetime import datetime  # Para trabajar con fechas






import matplotlib.pyplot as plt  # Gráficos básicos
import seaborn as sns            # Gráficos estadísticos más atractivos






from sklearn.preprocessing import StandardScaler, PowerTransformer
from sklearn.cluster import KMeans
from sklearn.decomposition import PCA
from sklearn.model_selection import StratifiedKFold, cross_val_score
from sklearn.ensemble import RandomForestClassifier
from sklearn.pipeline import Pipeline
from sklearn.metrics import silhouette_score

import joblib  # Para guardar y cargar modelos






import umap                  # Reducción de dimensionalidad avanzada (visualización)
import category_encoders      # Codificación de variables categóricas para modelos






# Definir la ruta
OLIST_DIR = Path("./data/olist") # Carpeta donde están los CSVs de Olist

#archivos csv
CUSTOMERS_CSV = OLIST_DIR / "olist_customers_dataset.csv"
ORDERS_CSV = OLIST_DIR / "olist_orders_dataset.csv"
ITEMS_CSV  = OLIST_DIR / "olist_order_items_dataset.csv"



# Cargar el CSVs en DataFrames
customers = pd.read_csv(CUSTOMERS_CSV)
orders = pd.read_csv(ORDERS_CSV, parse_dates=['order_purchase_timestamp'])
items  = pd.read_csv(ITEMS_CSV)



# Ver las primeras filas para confirmar que se cargaron correctamente
print("Número de clientes:", len(customers))
display(customers.head())
print("Orders:")
display(orders.head())
print("Items:")
display(items.head())


# Renombrar columnas para estandarizar
customers = customers.rename(columns={'customer_unique_id':'customer_id_real'})
orders = orders.rename(columns={'order_purchase_timestamp':'order_date'})


# Filtrar solo pedidos entregados
orders = orders[orders['order_status'] == 'delivered']


# Agrupar ítems por pedido(order_id)
order_amount = items.groupby('order_id', as_index=False).agg(
    total_amount=('price','sum'),
    total_items=('order_item_id','count')
)




# Unir con orders
orders = orders.merge(order_amount, on='order_id', how='left')


# Unir con customers para obtener el customer_unique_id real
orders = orders.merge(customers[['customer_id','customer_id_real']], on='customer_id', how='left')
orders = orders.rename(columns={'customer_id_real':'customer_id'})

# Eliminar columnas duplicadas (muy importante para evitar errores en groupby)
orders = orders.loc[:, ~orders.columns.duplicated()]



#Crear DataFrame de transaciones
# Seleccionar columnas relevantes
transactions = orders[['customer_id','order_id','order_date','total_items','total_amount']]
transactions = transactions.rename(columns={
    'total_items':'quantity',
    'total_amount':'line_amount'
})

# Calcular precio promedio por ítem
transactions['price'] = transactions['line_amount'] / transactions['quantity']

# Mostrar primeras filas
print("Transacciones finales:")
display(transactions.head())









# Definimos la fecha de referencia para calcular Recency.
# Se toma la fecha máxima de pedidos en el dataset como referencia para todos los clientes.
reference_date = transactions['order_date'].max()
print("Fecha de referencia para Recency:", reference_date)


# Agrupamos las transacciones por cliente y calcular RFM.
rfm = transactions.groupby('customer_id').agg(
    Recency=('order_date', lambda x: (reference_date - x.max()).days),  # Días desde la última compra
    Frequency=('order_id', 'count'),                                     # Número de pedidos realizados
    Monetary=('line_amount', 'sum'),                                      # Gasto total acumulado
    Total_items=('quantity','sum'),                                      # Total de productos comprados
    Max_purchase=('line_amount','max')                                   # Gasto máximo en un pedido
).reset_index()


# Métricas adicionales
rfm['Avg_ticket'] = rfm['Monetary'] / rfm['Frequency']                 # Ticket promedio por pedido
rfm['Avg_items_per_order'] = rfm['Total_items'] / rfm['Frequency']     # Promedio de ítems por pedido

# Tiempo promedio entre pedidos por cliente
# Se calcula como la diferencia en días entre pedidos consecutivos
avg_days = transactions.sort_values(['customer_id','order_date']).groupby('customer_id')['order_date'].diff().dt.days
rfm['Avg_days_between_orders'] = avg_days.groupby(transactions['customer_id']).mean().values



# Revisar el DataFrame final de RFM
print("RFM y métricas adicionales por cliente:")
display(rfm.head())


# Estadísticas descriptivas
print("Estadísticas descriptivas de las variables RFM y adicionales:")
display(rfm.describe())





# Selección de variables para clustering
# Dado que Frequency = 1 para todos los clientes, se puede excluir si se desea
features = ['Recency', 'Monetary', 'Total_items', 'Max_purchase']

X = rfm[features]




# Escalado de variables(para que tosas tengan media o y desviación estanar 1)
scaler = StandardScaler()
X_scaled = scaler.fit_transform(X)


# Determinar número óptimo de clusters usando método del codo
inertia = []
k_range = range(2, 11)
for k in k_range:
    kmeans = KMeans(n_clusters=k, random_state=42)
    kmeans.fit(X_scaled)
    inertia.append(kmeans.inertia_)

# Visualizar la curva del codo
plt.figure(figsize=(8,5))
plt.plot(k_range, inertia, marker='o')
plt.title("Método del codo para determinar k óptimo")
plt.xlabel("Número de clusters")
plt.ylabel("Inertia")
plt.show()




# Aplicar KMeans con el número de clusters seleccionado(mediante observación)
kmeans = KMeans(n_clusters=5, random_state=42)
rfm['Cluster'] = kmeans.fit_predict(X_scaled)


# Resumen de cada cluster
cluster_summary = rfm.groupby('Cluster')[features + ['Avg_ticket', 'Avg_items_per_order']].mean()
print("Resumen de clusters:")
display(cluster_summary)


# Visualización de clusters (Recency vs Monetary)
plt.figure(figsize=(8,6))
sns.scatterplot(data=rfm, x='Recency', y='Monetary', hue='Cluster', palette='Set2')
plt.title("Segmentación de clientes: Recency vs Monetary")
plt.show()




